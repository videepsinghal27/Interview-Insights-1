{
  "nbformat": 4,
  "nbformat_minor": 0,
  "metadata": {
    "colab": {
      "provenance": []
    },
    "kernelspec": {
      "name": "python3",
      "display_name": "Python 3"
    },
    "language_info": {
      "name": "python"
    }
  },
  "cells": [
    {
      "cell_type": "markdown",
      "source": [
        "# Understanding Product Management & PDLC"
      ],
      "metadata": {
        "id": "Pe33bH3CkBzr"
      }
    },
    {
      "cell_type": "markdown",
      "source": [
        "1. How would you improve the Instagram Reels experience? Identify key pain points or opportunities and propose features while considering user needs, business goals, and competition\n",
        "\n",
        "-> Instagram Reels enjoys a direct competition from Youtube Shorts and Tiktok as well all over the world. The gaps I find when using reels is that the algorithm is not mature enough to showcase what I want to see.\n",
        "\n",
        "For instance: If I like 2-3 dog related posts then reels fill my whole feed with only dog related posts without consideration of other items.\n",
        "\n",
        "Also, there is no feedback system to ensure that what Reels is doing is right or wrong which does not let it adapt to people's needs.\n",
        "\n",
        "The third issue is the repetition of same reels again and again as you are subjected to ssame posts over again.\n",
        "\n",
        "The changes that are recommended are:\n",
        "\n",
        "1.   Incorporation of feedback system is essential\n",
        "2.   Suggestion of new content is required to ensure the person likes the content or not\n",
        "\n"
      ],
      "metadata": {
        "id": "vRIcCiyGkW8P"
      }
    },
    {
      "cell_type": "markdown",
      "source": [
        "2.  How would you design a bicycle renting app for tourists\n",
        "-> The first thing I would do is the audience research and interviews and surveys with the audience. After gathering the data I will do a competition research for the same with apps such as Freedo, GoBikes, Royal Brothers. After this I will devvice a strategy to ensure improvements can be done to the user experience. A product vision will also be created with a roadmap for the same. Then in the design phase mockup of the apps will be produced and approved. Then comes the execution phase to develop an MVP, getting feedback adn iterations to the app.\n",
        "\n",
        "\n",
        "\n",
        "* The first thing when user enters the app will be homepage with sliders (3-4 sliders), minimal graphics to explain what the app is about and how to use it. Then sign up and login page. Now there will be a country, state, and city selector from available options where we have listings from. Then user can view the pricing and for a lower price as well. Multiple sellers will be there and people can choose whose bike do they want.\n",
        "\n",
        "* There will be handy filters to quickly filter out the same as well. Also, pickup and drop off locations would be there. Users can pay and sellers will gwet thwe amount deducting the commission. Sellers will have a dashboard, advertisement and other options as well.\n",
        "\n"
      ],
      "metadata": {
        "id": "NZSp2S6JmbjO"
      }
    }
  ]
}